{
 "cells": [
  {
   "cell_type": "code",
   "execution_count": 2,
   "id": "cec9cf4a",
   "metadata": {},
   "outputs": [
    {
     "name": "stdout",
     "output_type": "stream",
     "text": [
      "✅ Base directory: c:\\Users\\LENOVO\\Desktop\\project by info\n",
      "✅ Raw data path: c:\\Users\\LENOVO\\Desktop\\project by info\\data\\raw\n",
      "✅ Processed data path: c:\\Users\\LENOVO\\Desktop\\project by info\\data\\processed\n",
      "✅ Loaded: city_day.csv | Shape: (29531, 16)\n",
      "✅ Loaded: city_hour.csv | Shape: (707875, 16)\n",
      "✅ Loaded: station_day.csv | Shape: (108035, 16)\n",
      "✅ Loaded: station_hour.csv | Shape: (2589083, 16)\n",
      "✅ Loaded: city_day_processed.csv | Shape: (29531, 17)\n",
      "✅ Loaded: city_day_sample.csv | Shape: (100, 17)\n",
      "✅ Loaded: city_hour_processed.csv | Shape: (707875, 37)\n",
      "✅ Loaded: city_hour_sample.csv | Shape: (100, 37)\n",
      "⚠️ File not found: c:\\Users\\LENOVO\\Desktop\\project by info\\data\\processed\\station_day.csv\n",
      "✅ Loaded: station_day_sample.csv | Shape: (100, 17)\n",
      "⚠️ File not found: c:\\Users\\LENOVO\\Desktop\\project by info\\data\\processed\\station_hour.csv\n",
      "⚠️ File not found: c:\\Users\\LENOVO\\Desktop\\project by info\\data\\processed\\station_hour_sample.txt\n",
      "\n",
      "✅ Data loading complete.\n"
     ]
    }
   ],
   "source": [
    "# ----------------------------\n",
    "# IMPORTS\n",
    "# ----------------------------\n",
    "from pathlib import Path\n",
    "import pandas as pd\n",
    "import os\n",
    "\n",
    "# ----------------------------\n",
    "# BASE DIRECTORY\n",
    "# ----------------------------\n",
    "BASE_DIR = Path.cwd().parent  # Project root (one level up from notebooks)\n",
    "\n",
    "# ----------------------------\n",
    "# DATA DIRECTORIES\n",
    "# ----------------------------\n",
    "DATA_RAW_DIR = BASE_DIR / \"data\" / \"raw\"\n",
    "DATA_PROCESSED_DIR = BASE_DIR / \"data\" / \"processed\"\n",
    "\n",
    "# RESULTS, MODELS, REPORTS DIRECTORIES\n",
    "RESULTS_DIR = BASE_DIR / \"results\"\n",
    "FORECASTS_DIR = RESULTS_DIR / \"forecasts\"\n",
    "MODELS_DIR = BASE_DIR / \"models\"\n",
    "REPORTS_DIR = BASE_DIR / \"reports\"\n",
    "\n",
    "# Ensure directories exist\n",
    "RESULTS_DIR.mkdir(exist_ok=True)\n",
    "FORECASTS_DIR.mkdir(exist_ok=True)\n",
    "REPORTS_DIR.mkdir(exist_ok=True)\n",
    "\n",
    "print(f\"✅ Base directory: {BASE_DIR}\")\n",
    "print(f\"✅ Raw data path: {DATA_RAW_DIR}\")\n",
    "print(f\"✅ Processed data path: {DATA_PROCESSED_DIR}\")\n",
    "\n",
    "# ----------------------------\n",
    "# HELPER FUNCTION: SAFE CSV LOAD\n",
    "# ----------------------------\n",
    "def safe_read_csv(path, fix_unnamed=False):\n",
    "    \"\"\"Read CSV safely; return None if file not found. Optionally fix Unnamed columns.\"\"\"\n",
    "    try:\n",
    "        df = pd.read_csv(path, engine='python')\n",
    "        if fix_unnamed:\n",
    "            df = df.loc[:, ~df.columns.str.contains('^Unnamed')]\n",
    "        print(f\"✅ Loaded: {path.name} | Shape: {df.shape}\")\n",
    "        return df\n",
    "    except FileNotFoundError:\n",
    "        print(f\"⚠️ File not found: {path}\")\n",
    "        return None\n",
    "\n",
    "# ----------------------------\n",
    "# LOAD RAW CSV FILES\n",
    "# ----------------------------\n",
    "city_day_df = safe_read_csv(DATA_RAW_DIR / \"city_day.csv\")\n",
    "city_hour_df = safe_read_csv(DATA_RAW_DIR / \"city_hour.csv\")\n",
    "station_day_df = safe_read_csv(DATA_RAW_DIR / \"station_day.csv\")\n",
    "station_hour_df = safe_read_csv(DATA_RAW_DIR / \"station_hour.csv\")\n",
    "\n",
    "# ----------------------------\n",
    "# LOAD PROCESSED CSV FILES\n",
    "# ----------------------------\n",
    "city_day_processed_df = safe_read_csv(DATA_PROCESSED_DIR / \"city_day_processed.csv\")\n",
    "city_day_sample_df = safe_read_csv(DATA_PROCESSED_DIR / \"city_day_sample.csv\")\n",
    "\n",
    "city_hour_processed_df = safe_read_csv(DATA_PROCESSED_DIR / \"city_hour_processed.csv\", fix_unnamed=True)\n",
    "city_hour_sample_df = safe_read_csv(DATA_PROCESSED_DIR / \"city_hour_sample.csv\", fix_unnamed=True)\n",
    "\n",
    "station_day_processed_df = safe_read_csv(DATA_PROCESSED_DIR / \"station_day.csv\")\n",
    "station_day_sample_df = safe_read_csv(DATA_PROCESSED_DIR / \"station_day_sample.csv\")\n",
    "\n",
    "station_hour_processed_df = safe_read_csv(DATA_PROCESSED_DIR / \"station_hour.csv\")\n",
    "station_hour_sample_df = safe_read_csv(DATA_PROCESSED_DIR / \"station_hour_sample.txt\", fix_unnamed=True)\n",
    "\n",
    "# ----------------------------\n",
    "# PRINT SUMMARY\n",
    "# ----------------------------\n",
    "print(\"\\n✅ Data loading complete.\")\n"
   ]
  },
  {
   "cell_type": "code",
   "execution_count": 3,
   "id": "cbc3c7b0",
   "metadata": {},
   "outputs": [
    {
     "name": "stdout",
     "output_type": "stream",
     "text": [
      "Loaded alerts.csv\n",
      "Loaded model_performance.csv\n",
      "✅ Data loaded\n"
     ]
    }
   ],
   "source": [
    "# Load Forecasts\n",
    "forecast_files = [\"forecast_aqi.csv\", \"forecast.csv\"]\n",
    "forecast_data = None\n",
    "for f in forecast_files:\n",
    "    file = RESULTS_DIR / f\n",
    "    if file.exists():\n",
    "        forecast_data = pd.read_csv(file)\n",
    "        print(f\"Loaded {f} with {len(forecast_data)} rows\")\n",
    "        break\n",
    "\n",
    "# Load Alerts\n",
    "alerts = None\n",
    "for f in [\"alerts.csv\", \"alerts_summary.csv\"]:\n",
    "    file = RESULTS_DIR / f\n",
    "    if file.exists():\n",
    "        alerts = pd.read_csv(file)\n",
    "        print(f\"Loaded {f}\")\n",
    "        break\n",
    "\n",
    "# Load Performance\n",
    "performance = None\n",
    "for f in [\"model_performance.csv\", \"forecast_metrics_summary.csv\"]:\n",
    "    file = RESULTS_DIR / f\n",
    "    if file.exists():\n",
    "        performance = pd.read_csv(file)\n",
    "        print(f\"Loaded {f}\")\n",
    "        break\n",
    "\n",
    "# Load Best Models\n",
    "best_models_file = RESULTS_DIR / \"best_models.csv\"\n",
    "best_models = pd.read_csv(best_models_file) if best_models_file.exists() else None\n",
    "\n",
    "print(\"✅ Data loaded\")\n"
   ]
  },
  {
   "cell_type": "code",
   "execution_count": 7,
   "id": "6a590faf",
   "metadata": {},
   "outputs": [
    {
     "name": "stdout",
     "output_type": "stream",
     "text": [
      "✅ Forecast files loaded: ['forecast_accuracy_metrics', 'forecast_Ahmedabad_CO', 'forecast_Ahmedabad_NO', 'forecast_Ahmedabad_NO2', 'forecast_Ahmedabad_NOx', 'forecast_Ahmedabad_O3', 'forecast_Ahmedabad_PM10', 'forecast_Ahmedabad_PM2.5', 'forecast_Ahmedabad_SO2', 'forecast_Aizawl_CO', 'forecast_Aizawl_NH3', 'forecast_Aizawl_NO', 'forecast_Aizawl_NO2', 'forecast_Aizawl_NOx', 'forecast_Aizawl_O3', 'forecast_Aizawl_PM10', 'forecast_Aizawl_PM2.5', 'forecast_Aizawl_SO2', 'forecast_Amaravati_CO', 'forecast_Amaravati_NH3', 'forecast_Amaravati_NO', 'forecast_Amaravati_NO2', 'forecast_Amaravati_NOx', 'forecast_Amaravati_O3', 'forecast_Amaravati_PM10', 'forecast_Amaravati_PM2.5', 'forecast_Amaravati_SO2', 'forecast_Amritsar_CO', 'forecast_Amritsar_NH3', 'forecast_Amritsar_NO', 'forecast_Amritsar_NO2', 'forecast_Amritsar_NOx', 'forecast_Amritsar_O3', 'forecast_Amritsar_PM10', 'forecast_Amritsar_PM2.5', 'forecast_Amritsar_SO2', 'forecast_Bengaluru_CO', 'forecast_Bengaluru_NH3', 'forecast_Bengaluru_NO', 'forecast_Bengaluru_NO2', 'forecast_Bengaluru_NOx', 'forecast_Bengaluru_O3', 'forecast_Bengaluru_PM10', 'forecast_Bengaluru_PM2.5', 'forecast_Bengaluru_SO2', 'forecast_Bhopal_CO', 'forecast_Bhopal_NH3', 'forecast_Bhopal_NO', 'forecast_Bhopal_NO2', 'forecast_Bhopal_NOx', 'forecast_Bhopal_O3', 'forecast_Bhopal_PM10', 'forecast_Bhopal_PM2.5', 'forecast_Bhopal_SO2', 'forecast_Brajrajnagar_CO', 'forecast_Brajrajnagar_NH3', 'forecast_Brajrajnagar_NO', 'forecast_Brajrajnagar_NO2', 'forecast_Brajrajnagar_NOx', 'forecast_Brajrajnagar_O3', 'forecast_Brajrajnagar_PM10', 'forecast_Brajrajnagar_PM2.5', 'forecast_Brajrajnagar_SO2', 'forecast_Chandigarh_CO', 'forecast_Chandigarh_NH3', 'forecast_Chandigarh_NO', 'forecast_Chandigarh_NO2', 'forecast_Chandigarh_NOx', 'forecast_Chandigarh_O3', 'forecast_Chandigarh_PM10', 'forecast_Chandigarh_PM2.5', 'forecast_Chandigarh_SO2', 'forecast_Chennai_CO', 'forecast_Chennai_NH3', 'forecast_Chennai_NO', 'forecast_Chennai_NO2', 'forecast_Chennai_NOx', 'forecast_Chennai_O3', 'forecast_Chennai_PM10', 'forecast_Chennai_PM2.5', 'forecast_Chennai_SO2', 'forecast_Coimbatore_CO', 'forecast_Coimbatore_NH3', 'forecast_Coimbatore_NO', 'forecast_Coimbatore_NO2', 'forecast_Coimbatore_NOx', 'forecast_Coimbatore_O3', 'forecast_Coimbatore_PM10', 'forecast_Coimbatore_PM2.5', 'forecast_Coimbatore_SO2', 'forecast_Delhi_CO', 'forecast_Delhi_NH3', 'forecast_Delhi_NO', 'forecast_Delhi_NO2', 'forecast_Delhi_NOx', 'forecast_Delhi_O3', 'forecast_Delhi_PM10', 'forecast_Delhi_PM2.5', 'forecast_Delhi_SO2', 'forecast_Ernakulam_CO', 'forecast_Ernakulam_NH3', 'forecast_Ernakulam_NO', 'forecast_Ernakulam_NO2', 'forecast_Ernakulam_NOx', 'forecast_Ernakulam_PM10', 'forecast_Ernakulam_PM2.5', 'forecast_Ernakulam_SO2', 'forecast_Gurugram_CO', 'forecast_Gurugram_NH3', 'forecast_Gurugram_NO', 'forecast_Gurugram_NO2', 'forecast_Gurugram_NOx', 'forecast_Gurugram_O3', 'forecast_Gurugram_PM10', 'forecast_Gurugram_PM2.5', 'forecast_Gurugram_SO2', 'forecast_Guwahati_CO', 'forecast_Guwahati_NH3', 'forecast_Guwahati_NO', 'forecast_Guwahati_NO2', 'forecast_Guwahati_NOx', 'forecast_Guwahati_O3', 'forecast_Guwahati_PM10', 'forecast_Guwahati_PM2.5', 'forecast_Guwahati_SO2', 'forecast_Hyderabad_CO', 'forecast_Hyderabad_NH3', 'forecast_Hyderabad_NO', 'forecast_Hyderabad_NO2', 'forecast_Hyderabad_NOx', 'forecast_Hyderabad_O3', 'forecast_Hyderabad_PM10', 'forecast_Hyderabad_PM2.5', 'forecast_Hyderabad_SO2', 'forecast_Jaipur_CO', 'forecast_Jaipur_NH3', 'forecast_Jaipur_NO', 'forecast_Jaipur_NO2', 'forecast_Jaipur_NOx', 'forecast_Jaipur_O3', 'forecast_Jaipur_PM10', 'forecast_Jaipur_PM2.5', 'forecast_Jaipur_SO2', 'forecast_Jorapokhar_CO', 'forecast_Jorapokhar_NH3', 'forecast_Jorapokhar_NO', 'forecast_Jorapokhar_NO2', 'forecast_Jorapokhar_O3', 'forecast_Jorapokhar_PM10', 'forecast_Jorapokhar_PM2.5', 'forecast_Jorapokhar_SO2', 'forecast_Kochi_CO', 'forecast_Kochi_NH3', 'forecast_Kochi_NO', 'forecast_Kochi_NO2', 'forecast_Kochi_NOx', 'forecast_Kochi_O3', 'forecast_Kochi_PM10', 'forecast_Kochi_PM2.5', 'forecast_Kochi_SO2', 'forecast_Kolkata_CO', 'forecast_Kolkata_NH3', 'forecast_Kolkata_NO', 'forecast_Kolkata_NO2', 'forecast_Kolkata_NOx', 'forecast_Kolkata_O3', 'forecast_Kolkata_PM10', 'forecast_Kolkata_PM2.5', 'forecast_Kolkata_SO2', 'forecast_Lucknow_CO', 'forecast_Lucknow_NH3', 'forecast_Lucknow_NO', 'forecast_Lucknow_NO2', 'forecast_Lucknow_NOx', 'forecast_Lucknow_O3', 'forecast_Lucknow_PM2.5', 'forecast_Lucknow_SO2', 'forecast_Mumbai_CO', 'forecast_Mumbai_NH3', 'forecast_Mumbai_NO', 'forecast_Mumbai_NO2', 'forecast_Mumbai_NOx', 'forecast_Mumbai_O3', 'forecast_Mumbai_PM10', 'forecast_Mumbai_PM2.5', 'forecast_Mumbai_SO2', 'forecast_Patna_CO', 'forecast_Patna_NH3', 'forecast_Patna_NO', 'forecast_Patna_NO2', 'forecast_Patna_NOx', 'forecast_Patna_O3', 'forecast_Patna_PM10', 'forecast_Patna_PM2.5', 'forecast_Patna_SO2', 'forecast_Shillong_CO', 'forecast_Shillong_NH3', 'forecast_Shillong_NO', 'forecast_Shillong_NO2', 'forecast_Shillong_NOx', 'forecast_Shillong_O3', 'forecast_Shillong_PM10', 'forecast_Shillong_PM2.5', 'forecast_Shillong_SO2', 'forecast_Talcher_CO', 'forecast_Talcher_NH3', 'forecast_Talcher_NO', 'forecast_Talcher_NO2', 'forecast_Talcher_NOx', 'forecast_Talcher_O3', 'forecast_Talcher_PM10', 'forecast_Talcher_PM2.5', 'forecast_Talcher_SO2', 'forecast_Thiruvananthapuram_CO', 'forecast_Thiruvananthapuram_NH3', 'forecast_Thiruvananthapuram_NO', 'forecast_Thiruvananthapuram_NO2', 'forecast_Thiruvananthapuram_NOx', 'forecast_Thiruvananthapuram_O3', 'forecast_Thiruvananthapuram_PM10', 'forecast_Thiruvananthapuram_PM2.5', 'forecast_Thiruvananthapuram_SO2', 'forecast_Visakhapatnam_CO', 'forecast_Visakhapatnam_NH3', 'forecast_Visakhapatnam_NO', 'forecast_Visakhapatnam_NO2', 'forecast_Visakhapatnam_NOx', 'forecast_Visakhapatnam_O3', 'forecast_Visakhapatnam_PM10', 'forecast_Visakhapatnam_PM2.5', 'forecast_Visakhapatnam_SO2']\n"
     ]
    },
    {
     "data": {
      "application/vnd.plotly.v1+json": {
       "config": {
        "plotlyServerURL": "https://plot.ly"
       },
       "data": [
        {
         "gauge": {
          "axis": {
           "range": [
            0,
            500
           ]
          },
          "bar": {
           "color": "orange"
          },
          "steps": [
           {
            "color": "green",
            "range": [
             0,
             50
            ]
           },
           {
            "color": "yellow",
            "range": [
             51,
             100
            ]
           },
           {
            "color": "orange",
            "range": [
             101,
             150
            ]
           },
           {
            "color": "red",
            "range": [
             151,
             200
            ]
           },
           {
            "color": "purple",
            "range": [
             201,
             300
            ]
           },
           {
            "color": "maroon",
            "range": [
             301,
             500
            ]
           }
          ]
         },
         "mode": "gauge+number",
         "title": {
          "text": "Unknown – Unknown"
         },
         "type": "indicator",
         "value": 0
        }
       ],
       "layout": {
        "template": {
         "data": {
          "bar": [
           {
            "error_x": {
             "color": "#2a3f5f"
            },
            "error_y": {
             "color": "#2a3f5f"
            },
            "marker": {
             "line": {
              "color": "#E5ECF6",
              "width": 0.5
             },
             "pattern": {
              "fillmode": "overlay",
              "size": 10,
              "solidity": 0.2
             }
            },
            "type": "bar"
           }
          ],
          "barpolar": [
           {
            "marker": {
             "line": {
              "color": "#E5ECF6",
              "width": 0.5
             },
             "pattern": {
              "fillmode": "overlay",
              "size": 10,
              "solidity": 0.2
             }
            },
            "type": "barpolar"
           }
          ],
          "carpet": [
           {
            "aaxis": {
             "endlinecolor": "#2a3f5f",
             "gridcolor": "white",
             "linecolor": "white",
             "minorgridcolor": "white",
             "startlinecolor": "#2a3f5f"
            },
            "baxis": {
             "endlinecolor": "#2a3f5f",
             "gridcolor": "white",
             "linecolor": "white",
             "minorgridcolor": "white",
             "startlinecolor": "#2a3f5f"
            },
            "type": "carpet"
           }
          ],
          "choropleth": [
           {
            "colorbar": {
             "outlinewidth": 0,
             "ticks": ""
            },
            "type": "choropleth"
           }
          ],
          "contour": [
           {
            "colorbar": {
             "outlinewidth": 0,
             "ticks": ""
            },
            "colorscale": [
             [
              0,
              "#0d0887"
             ],
             [
              0.1111111111111111,
              "#46039f"
             ],
             [
              0.2222222222222222,
              "#7201a8"
             ],
             [
              0.3333333333333333,
              "#9c179e"
             ],
             [
              0.4444444444444444,
              "#bd3786"
             ],
             [
              0.5555555555555556,
              "#d8576b"
             ],
             [
              0.6666666666666666,
              "#ed7953"
             ],
             [
              0.7777777777777778,
              "#fb9f3a"
             ],
             [
              0.8888888888888888,
              "#fdca26"
             ],
             [
              1,
              "#f0f921"
             ]
            ],
            "type": "contour"
           }
          ],
          "contourcarpet": [
           {
            "colorbar": {
             "outlinewidth": 0,
             "ticks": ""
            },
            "type": "contourcarpet"
           }
          ],
          "heatmap": [
           {
            "colorbar": {
             "outlinewidth": 0,
             "ticks": ""
            },
            "colorscale": [
             [
              0,
              "#0d0887"
             ],
             [
              0.1111111111111111,
              "#46039f"
             ],
             [
              0.2222222222222222,
              "#7201a8"
             ],
             [
              0.3333333333333333,
              "#9c179e"
             ],
             [
              0.4444444444444444,
              "#bd3786"
             ],
             [
              0.5555555555555556,
              "#d8576b"
             ],
             [
              0.6666666666666666,
              "#ed7953"
             ],
             [
              0.7777777777777778,
              "#fb9f3a"
             ],
             [
              0.8888888888888888,
              "#fdca26"
             ],
             [
              1,
              "#f0f921"
             ]
            ],
            "type": "heatmap"
           }
          ],
          "heatmapgl": [
           {
            "colorbar": {
             "outlinewidth": 0,
             "ticks": ""
            },
            "colorscale": [
             [
              0,
              "#0d0887"
             ],
             [
              0.1111111111111111,
              "#46039f"
             ],
             [
              0.2222222222222222,
              "#7201a8"
             ],
             [
              0.3333333333333333,
              "#9c179e"
             ],
             [
              0.4444444444444444,
              "#bd3786"
             ],
             [
              0.5555555555555556,
              "#d8576b"
             ],
             [
              0.6666666666666666,
              "#ed7953"
             ],
             [
              0.7777777777777778,
              "#fb9f3a"
             ],
             [
              0.8888888888888888,
              "#fdca26"
             ],
             [
              1,
              "#f0f921"
             ]
            ],
            "type": "heatmapgl"
           }
          ],
          "histogram": [
           {
            "marker": {
             "pattern": {
              "fillmode": "overlay",
              "size": 10,
              "solidity": 0.2
             }
            },
            "type": "histogram"
           }
          ],
          "histogram2d": [
           {
            "colorbar": {
             "outlinewidth": 0,
             "ticks": ""
            },
            "colorscale": [
             [
              0,
              "#0d0887"
             ],
             [
              0.1111111111111111,
              "#46039f"
             ],
             [
              0.2222222222222222,
              "#7201a8"
             ],
             [
              0.3333333333333333,
              "#9c179e"
             ],
             [
              0.4444444444444444,
              "#bd3786"
             ],
             [
              0.5555555555555556,
              "#d8576b"
             ],
             [
              0.6666666666666666,
              "#ed7953"
             ],
             [
              0.7777777777777778,
              "#fb9f3a"
             ],
             [
              0.8888888888888888,
              "#fdca26"
             ],
             [
              1,
              "#f0f921"
             ]
            ],
            "type": "histogram2d"
           }
          ],
          "histogram2dcontour": [
           {
            "colorbar": {
             "outlinewidth": 0,
             "ticks": ""
            },
            "colorscale": [
             [
              0,
              "#0d0887"
             ],
             [
              0.1111111111111111,
              "#46039f"
             ],
             [
              0.2222222222222222,
              "#7201a8"
             ],
             [
              0.3333333333333333,
              "#9c179e"
             ],
             [
              0.4444444444444444,
              "#bd3786"
             ],
             [
              0.5555555555555556,
              "#d8576b"
             ],
             [
              0.6666666666666666,
              "#ed7953"
             ],
             [
              0.7777777777777778,
              "#fb9f3a"
             ],
             [
              0.8888888888888888,
              "#fdca26"
             ],
             [
              1,
              "#f0f921"
             ]
            ],
            "type": "histogram2dcontour"
           }
          ],
          "mesh3d": [
           {
            "colorbar": {
             "outlinewidth": 0,
             "ticks": ""
            },
            "type": "mesh3d"
           }
          ],
          "parcoords": [
           {
            "line": {
             "colorbar": {
              "outlinewidth": 0,
              "ticks": ""
             }
            },
            "type": "parcoords"
           }
          ],
          "pie": [
           {
            "automargin": true,
            "type": "pie"
           }
          ],
          "scatter": [
           {
            "fillpattern": {
             "fillmode": "overlay",
             "size": 10,
             "solidity": 0.2
            },
            "type": "scatter"
           }
          ],
          "scatter3d": [
           {
            "line": {
             "colorbar": {
              "outlinewidth": 0,
              "ticks": ""
             }
            },
            "marker": {
             "colorbar": {
              "outlinewidth": 0,
              "ticks": ""
             }
            },
            "type": "scatter3d"
           }
          ],
          "scattercarpet": [
           {
            "marker": {
             "colorbar": {
              "outlinewidth": 0,
              "ticks": ""
             }
            },
            "type": "scattercarpet"
           }
          ],
          "scattergeo": [
           {
            "marker": {
             "colorbar": {
              "outlinewidth": 0,
              "ticks": ""
             }
            },
            "type": "scattergeo"
           }
          ],
          "scattergl": [
           {
            "marker": {
             "colorbar": {
              "outlinewidth": 0,
              "ticks": ""
             }
            },
            "type": "scattergl"
           }
          ],
          "scattermapbox": [
           {
            "marker": {
             "colorbar": {
              "outlinewidth": 0,
              "ticks": ""
             }
            },
            "type": "scattermapbox"
           }
          ],
          "scatterpolar": [
           {
            "marker": {
             "colorbar": {
              "outlinewidth": 0,
              "ticks": ""
             }
            },
            "type": "scatterpolar"
           }
          ],
          "scatterpolargl": [
           {
            "marker": {
             "colorbar": {
              "outlinewidth": 0,
              "ticks": ""
             }
            },
            "type": "scatterpolargl"
           }
          ],
          "scatterternary": [
           {
            "marker": {
             "colorbar": {
              "outlinewidth": 0,
              "ticks": ""
             }
            },
            "type": "scatterternary"
           }
          ],
          "surface": [
           {
            "colorbar": {
             "outlinewidth": 0,
             "ticks": ""
            },
            "colorscale": [
             [
              0,
              "#0d0887"
             ],
             [
              0.1111111111111111,
              "#46039f"
             ],
             [
              0.2222222222222222,
              "#7201a8"
             ],
             [
              0.3333333333333333,
              "#9c179e"
             ],
             [
              0.4444444444444444,
              "#bd3786"
             ],
             [
              0.5555555555555556,
              "#d8576b"
             ],
             [
              0.6666666666666666,
              "#ed7953"
             ],
             [
              0.7777777777777778,
              "#fb9f3a"
             ],
             [
              0.8888888888888888,
              "#fdca26"
             ],
             [
              1,
              "#f0f921"
             ]
            ],
            "type": "surface"
           }
          ],
          "table": [
           {
            "cells": {
             "fill": {
              "color": "#EBF0F8"
             },
             "line": {
              "color": "white"
             }
            },
            "header": {
             "fill": {
              "color": "#C8D4E3"
             },
             "line": {
              "color": "white"
             }
            },
            "type": "table"
           }
          ]
         },
         "layout": {
          "annotationdefaults": {
           "arrowcolor": "#2a3f5f",
           "arrowhead": 0,
           "arrowwidth": 1
          },
          "autotypenumbers": "strict",
          "coloraxis": {
           "colorbar": {
            "outlinewidth": 0,
            "ticks": ""
           }
          },
          "colorscale": {
           "diverging": [
            [
             0,
             "#8e0152"
            ],
            [
             0.1,
             "#c51b7d"
            ],
            [
             0.2,
             "#de77ae"
            ],
            [
             0.3,
             "#f1b6da"
            ],
            [
             0.4,
             "#fde0ef"
            ],
            [
             0.5,
             "#f7f7f7"
            ],
            [
             0.6,
             "#e6f5d0"
            ],
            [
             0.7,
             "#b8e186"
            ],
            [
             0.8,
             "#7fbc41"
            ],
            [
             0.9,
             "#4d9221"
            ],
            [
             1,
             "#276419"
            ]
           ],
           "sequential": [
            [
             0,
             "#0d0887"
            ],
            [
             0.1111111111111111,
             "#46039f"
            ],
            [
             0.2222222222222222,
             "#7201a8"
            ],
            [
             0.3333333333333333,
             "#9c179e"
            ],
            [
             0.4444444444444444,
             "#bd3786"
            ],
            [
             0.5555555555555556,
             "#d8576b"
            ],
            [
             0.6666666666666666,
             "#ed7953"
            ],
            [
             0.7777777777777778,
             "#fb9f3a"
            ],
            [
             0.8888888888888888,
             "#fdca26"
            ],
            [
             1,
             "#f0f921"
            ]
           ],
           "sequentialminus": [
            [
             0,
             "#0d0887"
            ],
            [
             0.1111111111111111,
             "#46039f"
            ],
            [
             0.2222222222222222,
             "#7201a8"
            ],
            [
             0.3333333333333333,
             "#9c179e"
            ],
            [
             0.4444444444444444,
             "#bd3786"
            ],
            [
             0.5555555555555556,
             "#d8576b"
            ],
            [
             0.6666666666666666,
             "#ed7953"
            ],
            [
             0.7777777777777778,
             "#fb9f3a"
            ],
            [
             0.8888888888888888,
             "#fdca26"
            ],
            [
             1,
             "#f0f921"
            ]
           ]
          },
          "colorway": [
           "#636efa",
           "#EF553B",
           "#00cc96",
           "#ab63fa",
           "#FFA15A",
           "#19d3f3",
           "#FF6692",
           "#B6E880",
           "#FF97FF",
           "#FECB52"
          ],
          "font": {
           "color": "#2a3f5f"
          },
          "geo": {
           "bgcolor": "white",
           "lakecolor": "white",
           "landcolor": "#E5ECF6",
           "showlakes": true,
           "showland": true,
           "subunitcolor": "white"
          },
          "hoverlabel": {
           "align": "left"
          },
          "hovermode": "closest",
          "mapbox": {
           "style": "light"
          },
          "paper_bgcolor": "white",
          "plot_bgcolor": "#E5ECF6",
          "polar": {
           "angularaxis": {
            "gridcolor": "white",
            "linecolor": "white",
            "ticks": ""
           },
           "bgcolor": "#E5ECF6",
           "radialaxis": {
            "gridcolor": "white",
            "linecolor": "white",
            "ticks": ""
           }
          },
          "scene": {
           "xaxis": {
            "backgroundcolor": "#E5ECF6",
            "gridcolor": "white",
            "gridwidth": 2,
            "linecolor": "white",
            "showbackground": true,
            "ticks": "",
            "zerolinecolor": "white"
           },
           "yaxis": {
            "backgroundcolor": "#E5ECF6",
            "gridcolor": "white",
            "gridwidth": 2,
            "linecolor": "white",
            "showbackground": true,
            "ticks": "",
            "zerolinecolor": "white"
           },
           "zaxis": {
            "backgroundcolor": "#E5ECF6",
            "gridcolor": "white",
            "gridwidth": 2,
            "linecolor": "white",
            "showbackground": true,
            "ticks": "",
            "zerolinecolor": "white"
           }
          },
          "shapedefaults": {
           "line": {
            "color": "#2a3f5f"
           }
          },
          "ternary": {
           "aaxis": {
            "gridcolor": "white",
            "linecolor": "white",
            "ticks": ""
           },
           "baxis": {
            "gridcolor": "white",
            "linecolor": "white",
            "ticks": ""
           },
           "bgcolor": "#E5ECF6",
           "caxis": {
            "gridcolor": "white",
            "linecolor": "white",
            "ticks": ""
           }
          },
          "title": {
           "x": 0.05
          },
          "xaxis": {
           "automargin": true,
           "gridcolor": "white",
           "linecolor": "white",
           "ticks": "",
           "title": {
            "standoff": 15
           },
           "zerolinecolor": "white",
           "zerolinewidth": 2
          },
          "yaxis": {
           "automargin": true,
           "gridcolor": "white",
           "linecolor": "white",
           "ticks": "",
           "title": {
            "standoff": 15
           },
           "zerolinecolor": "white",
           "zerolinewidth": 2
          }
         }
        }
       }
      }
     },
     "metadata": {},
     "output_type": "display_data"
    }
   ],
   "source": [
    "from pathlib import Path\n",
    "import pandas as pd\n",
    "import plotly.graph_objects as go\n",
    "\n",
    "# ----------------------------\n",
    "# BASE & RESULTS DIRECTORIES\n",
    "# ----------------------------\n",
    "BASE_DIR = Path.cwd().parent\n",
    "RESULTS_DIR = BASE_DIR / \"results\"\n",
    "FORECASTS_DIR = RESULTS_DIR / \"forecasts\"\n",
    "\n",
    "# ----------------------------\n",
    "# HELPER FUNCTION TO LOAD CSV\n",
    "# ----------------------------\n",
    "def safe_read_csv(path):\n",
    "    try:\n",
    "        df = pd.read_csv(path, engine='python')\n",
    "        return df\n",
    "    except FileNotFoundError:\n",
    "        print(f\"⚠️ File not found: {path}\")\n",
    "        return None\n",
    "\n",
    "# ----------------------------\n",
    "# LOAD ALL FORECAST CSVs INTO A DICTIONARY\n",
    "# ----------------------------\n",
    "forecast_files = list(FORECASTS_DIR.glob(\"*.csv\"))\n",
    "forecast_dfs = {}\n",
    "for file in forecast_files:\n",
    "    df = safe_read_csv(file)\n",
    "    if df is not None:\n",
    "        forecast_dfs[file.stem] = df  # key = filename without extension\n",
    "\n",
    "print(f\"✅ Forecast files loaded: {list(forecast_dfs.keys())}\")\n",
    "\n",
    "# ----------------------------\n",
    "# GAUGE PLOT FOR A CITY/POLLUTANT\n",
    "# ----------------------------\n",
    "forecast_key = \"forecast_Ahmedabad_PM2.5\"  # change to the desired forecast file\n",
    "\n",
    "forecast_data = forecast_dfs.get(forecast_key, None)\n",
    "\n",
    "if forecast_data is not None and not forecast_data.empty:\n",
    "    latest = forecast_data.iloc[0]  # take the first row\n",
    "    \n",
    "    city = latest.get(\"City\", \"Unknown\")\n",
    "    aqi_val = latest.get(\"AQI\", 0)\n",
    "    category = latest.get(\"Category\", \"Unknown\")\n",
    "\n",
    "    fig = go.Figure(go.Indicator(\n",
    "        mode=\"gauge+number\",\n",
    "        value=aqi_val,\n",
    "        title={\"text\": f\"{city} – {category}\"},\n",
    "        gauge={\n",
    "            \"axis\": {\"range\": [0, 500]},\n",
    "            \"bar\": {\"color\": \"orange\"},\n",
    "            \"steps\": [\n",
    "                {\"range\": [0, 50], \"color\": \"green\"},\n",
    "                {\"range\": [51, 100], \"color\": \"yellow\"},\n",
    "                {\"range\": [101, 150], \"color\": \"orange\"},\n",
    "                {\"range\": [151, 200], \"color\": \"red\"},\n",
    "                {\"range\": [201, 300], \"color\": \"purple\"},\n",
    "                {\"range\": [301, 500], \"color\": \"maroon\"}\n",
    "            ]\n",
    "        }\n",
    "    ))\n",
    "\n",
    "    fig.show()\n",
    "else:\n",
    "    print(\"⚠️ No forecast data available for\", forecast_key)\n"
   ]
  },
  {
   "cell_type": "code",
   "execution_count": 10,
   "id": "90b4aa7f",
   "metadata": {},
   "outputs": [
    {
     "data": {
      "application/vnd.plotly.v1+json": {
       "config": {
        "plotlyServerURL": "https://plot.ly"
       },
       "data": [
        {
         "hovertemplate": "Date=%{x}<br>trend=%{y}<extra></extra>",
         "legendgroup": "",
         "line": {
          "color": "#636efa",
          "dash": "solid"
         },
         "marker": {
          "symbol": "circle"
         },
         "mode": "lines+markers",
         "name": "",
         "orientation": "v",
         "showlegend": false,
         "type": "scatter",
         "x": [
          "2025-09-21T14:45:57.079359",
          "2025-09-22T14:45:57.079359",
          "2025-09-23T14:45:57.079359",
          "2025-09-24T14:45:57.079359",
          "2025-09-25T14:45:57.079359",
          "2025-09-26T14:45:57.079359",
          "2025-09-27T14:45:57.079359"
         ],
         "xaxis": "x",
         "y": [
          111.74657728,
          111.7890831706401,
          111.8315890612802,
          111.8740949519203,
          111.9166008425604,
          111.9591067332005,
          112.0016126238406
         ],
         "yaxis": "y"
        }
       ],
       "layout": {
        "legend": {
         "tracegroupgap": 0
        },
        "template": {
         "data": {
          "bar": [
           {
            "error_x": {
             "color": "#2a3f5f"
            },
            "error_y": {
             "color": "#2a3f5f"
            },
            "marker": {
             "line": {
              "color": "#E5ECF6",
              "width": 0.5
             },
             "pattern": {
              "fillmode": "overlay",
              "size": 10,
              "solidity": 0.2
             }
            },
            "type": "bar"
           }
          ],
          "barpolar": [
           {
            "marker": {
             "line": {
              "color": "#E5ECF6",
              "width": 0.5
             },
             "pattern": {
              "fillmode": "overlay",
              "size": 10,
              "solidity": 0.2
             }
            },
            "type": "barpolar"
           }
          ],
          "carpet": [
           {
            "aaxis": {
             "endlinecolor": "#2a3f5f",
             "gridcolor": "white",
             "linecolor": "white",
             "minorgridcolor": "white",
             "startlinecolor": "#2a3f5f"
            },
            "baxis": {
             "endlinecolor": "#2a3f5f",
             "gridcolor": "white",
             "linecolor": "white",
             "minorgridcolor": "white",
             "startlinecolor": "#2a3f5f"
            },
            "type": "carpet"
           }
          ],
          "choropleth": [
           {
            "colorbar": {
             "outlinewidth": 0,
             "ticks": ""
            },
            "type": "choropleth"
           }
          ],
          "contour": [
           {
            "colorbar": {
             "outlinewidth": 0,
             "ticks": ""
            },
            "colorscale": [
             [
              0,
              "#0d0887"
             ],
             [
              0.1111111111111111,
              "#46039f"
             ],
             [
              0.2222222222222222,
              "#7201a8"
             ],
             [
              0.3333333333333333,
              "#9c179e"
             ],
             [
              0.4444444444444444,
              "#bd3786"
             ],
             [
              0.5555555555555556,
              "#d8576b"
             ],
             [
              0.6666666666666666,
              "#ed7953"
             ],
             [
              0.7777777777777778,
              "#fb9f3a"
             ],
             [
              0.8888888888888888,
              "#fdca26"
             ],
             [
              1,
              "#f0f921"
             ]
            ],
            "type": "contour"
           }
          ],
          "contourcarpet": [
           {
            "colorbar": {
             "outlinewidth": 0,
             "ticks": ""
            },
            "type": "contourcarpet"
           }
          ],
          "heatmap": [
           {
            "colorbar": {
             "outlinewidth": 0,
             "ticks": ""
            },
            "colorscale": [
             [
              0,
              "#0d0887"
             ],
             [
              0.1111111111111111,
              "#46039f"
             ],
             [
              0.2222222222222222,
              "#7201a8"
             ],
             [
              0.3333333333333333,
              "#9c179e"
             ],
             [
              0.4444444444444444,
              "#bd3786"
             ],
             [
              0.5555555555555556,
              "#d8576b"
             ],
             [
              0.6666666666666666,
              "#ed7953"
             ],
             [
              0.7777777777777778,
              "#fb9f3a"
             ],
             [
              0.8888888888888888,
              "#fdca26"
             ],
             [
              1,
              "#f0f921"
             ]
            ],
            "type": "heatmap"
           }
          ],
          "heatmapgl": [
           {
            "colorbar": {
             "outlinewidth": 0,
             "ticks": ""
            },
            "colorscale": [
             [
              0,
              "#0d0887"
             ],
             [
              0.1111111111111111,
              "#46039f"
             ],
             [
              0.2222222222222222,
              "#7201a8"
             ],
             [
              0.3333333333333333,
              "#9c179e"
             ],
             [
              0.4444444444444444,
              "#bd3786"
             ],
             [
              0.5555555555555556,
              "#d8576b"
             ],
             [
              0.6666666666666666,
              "#ed7953"
             ],
             [
              0.7777777777777778,
              "#fb9f3a"
             ],
             [
              0.8888888888888888,
              "#fdca26"
             ],
             [
              1,
              "#f0f921"
             ]
            ],
            "type": "heatmapgl"
           }
          ],
          "histogram": [
           {
            "marker": {
             "pattern": {
              "fillmode": "overlay",
              "size": 10,
              "solidity": 0.2
             }
            },
            "type": "histogram"
           }
          ],
          "histogram2d": [
           {
            "colorbar": {
             "outlinewidth": 0,
             "ticks": ""
            },
            "colorscale": [
             [
              0,
              "#0d0887"
             ],
             [
              0.1111111111111111,
              "#46039f"
             ],
             [
              0.2222222222222222,
              "#7201a8"
             ],
             [
              0.3333333333333333,
              "#9c179e"
             ],
             [
              0.4444444444444444,
              "#bd3786"
             ],
             [
              0.5555555555555556,
              "#d8576b"
             ],
             [
              0.6666666666666666,
              "#ed7953"
             ],
             [
              0.7777777777777778,
              "#fb9f3a"
             ],
             [
              0.8888888888888888,
              "#fdca26"
             ],
             [
              1,
              "#f0f921"
             ]
            ],
            "type": "histogram2d"
           }
          ],
          "histogram2dcontour": [
           {
            "colorbar": {
             "outlinewidth": 0,
             "ticks": ""
            },
            "colorscale": [
             [
              0,
              "#0d0887"
             ],
             [
              0.1111111111111111,
              "#46039f"
             ],
             [
              0.2222222222222222,
              "#7201a8"
             ],
             [
              0.3333333333333333,
              "#9c179e"
             ],
             [
              0.4444444444444444,
              "#bd3786"
             ],
             [
              0.5555555555555556,
              "#d8576b"
             ],
             [
              0.6666666666666666,
              "#ed7953"
             ],
             [
              0.7777777777777778,
              "#fb9f3a"
             ],
             [
              0.8888888888888888,
              "#fdca26"
             ],
             [
              1,
              "#f0f921"
             ]
            ],
            "type": "histogram2dcontour"
           }
          ],
          "mesh3d": [
           {
            "colorbar": {
             "outlinewidth": 0,
             "ticks": ""
            },
            "type": "mesh3d"
           }
          ],
          "parcoords": [
           {
            "line": {
             "colorbar": {
              "outlinewidth": 0,
              "ticks": ""
             }
            },
            "type": "parcoords"
           }
          ],
          "pie": [
           {
            "automargin": true,
            "type": "pie"
           }
          ],
          "scatter": [
           {
            "fillpattern": {
             "fillmode": "overlay",
             "size": 10,
             "solidity": 0.2
            },
            "type": "scatter"
           }
          ],
          "scatter3d": [
           {
            "line": {
             "colorbar": {
              "outlinewidth": 0,
              "ticks": ""
             }
            },
            "marker": {
             "colorbar": {
              "outlinewidth": 0,
              "ticks": ""
             }
            },
            "type": "scatter3d"
           }
          ],
          "scattercarpet": [
           {
            "marker": {
             "colorbar": {
              "outlinewidth": 0,
              "ticks": ""
             }
            },
            "type": "scattercarpet"
           }
          ],
          "scattergeo": [
           {
            "marker": {
             "colorbar": {
              "outlinewidth": 0,
              "ticks": ""
             }
            },
            "type": "scattergeo"
           }
          ],
          "scattergl": [
           {
            "marker": {
             "colorbar": {
              "outlinewidth": 0,
              "ticks": ""
             }
            },
            "type": "scattergl"
           }
          ],
          "scattermapbox": [
           {
            "marker": {
             "colorbar": {
              "outlinewidth": 0,
              "ticks": ""
             }
            },
            "type": "scattermapbox"
           }
          ],
          "scatterpolar": [
           {
            "marker": {
             "colorbar": {
              "outlinewidth": 0,
              "ticks": ""
             }
            },
            "type": "scatterpolar"
           }
          ],
          "scatterpolargl": [
           {
            "marker": {
             "colorbar": {
              "outlinewidth": 0,
              "ticks": ""
             }
            },
            "type": "scatterpolargl"
           }
          ],
          "scatterternary": [
           {
            "marker": {
             "colorbar": {
              "outlinewidth": 0,
              "ticks": ""
             }
            },
            "type": "scatterternary"
           }
          ],
          "surface": [
           {
            "colorbar": {
             "outlinewidth": 0,
             "ticks": ""
            },
            "colorscale": [
             [
              0,
              "#0d0887"
             ],
             [
              0.1111111111111111,
              "#46039f"
             ],
             [
              0.2222222222222222,
              "#7201a8"
             ],
             [
              0.3333333333333333,
              "#9c179e"
             ],
             [
              0.4444444444444444,
              "#bd3786"
             ],
             [
              0.5555555555555556,
              "#d8576b"
             ],
             [
              0.6666666666666666,
              "#ed7953"
             ],
             [
              0.7777777777777778,
              "#fb9f3a"
             ],
             [
              0.8888888888888888,
              "#fdca26"
             ],
             [
              1,
              "#f0f921"
             ]
            ],
            "type": "surface"
           }
          ],
          "table": [
           {
            "cells": {
             "fill": {
              "color": "#EBF0F8"
             },
             "line": {
              "color": "white"
             }
            },
            "header": {
             "fill": {
              "color": "#C8D4E3"
             },
             "line": {
              "color": "white"
             }
            },
            "type": "table"
           }
          ]
         },
         "layout": {
          "annotationdefaults": {
           "arrowcolor": "#2a3f5f",
           "arrowhead": 0,
           "arrowwidth": 1
          },
          "autotypenumbers": "strict",
          "coloraxis": {
           "colorbar": {
            "outlinewidth": 0,
            "ticks": ""
           }
          },
          "colorscale": {
           "diverging": [
            [
             0,
             "#8e0152"
            ],
            [
             0.1,
             "#c51b7d"
            ],
            [
             0.2,
             "#de77ae"
            ],
            [
             0.3,
             "#f1b6da"
            ],
            [
             0.4,
             "#fde0ef"
            ],
            [
             0.5,
             "#f7f7f7"
            ],
            [
             0.6,
             "#e6f5d0"
            ],
            [
             0.7,
             "#b8e186"
            ],
            [
             0.8,
             "#7fbc41"
            ],
            [
             0.9,
             "#4d9221"
            ],
            [
             1,
             "#276419"
            ]
           ],
           "sequential": [
            [
             0,
             "#0d0887"
            ],
            [
             0.1111111111111111,
             "#46039f"
            ],
            [
             0.2222222222222222,
             "#7201a8"
            ],
            [
             0.3333333333333333,
             "#9c179e"
            ],
            [
             0.4444444444444444,
             "#bd3786"
            ],
            [
             0.5555555555555556,
             "#d8576b"
            ],
            [
             0.6666666666666666,
             "#ed7953"
            ],
            [
             0.7777777777777778,
             "#fb9f3a"
            ],
            [
             0.8888888888888888,
             "#fdca26"
            ],
            [
             1,
             "#f0f921"
            ]
           ],
           "sequentialminus": [
            [
             0,
             "#0d0887"
            ],
            [
             0.1111111111111111,
             "#46039f"
            ],
            [
             0.2222222222222222,
             "#7201a8"
            ],
            [
             0.3333333333333333,
             "#9c179e"
            ],
            [
             0.4444444444444444,
             "#bd3786"
            ],
            [
             0.5555555555555556,
             "#d8576b"
            ],
            [
             0.6666666666666666,
             "#ed7953"
            ],
            [
             0.7777777777777778,
             "#fb9f3a"
            ],
            [
             0.8888888888888888,
             "#fdca26"
            ],
            [
             1,
             "#f0f921"
            ]
           ]
          },
          "colorway": [
           "#636efa",
           "#EF553B",
           "#00cc96",
           "#ab63fa",
           "#FFA15A",
           "#19d3f3",
           "#FF6692",
           "#B6E880",
           "#FF97FF",
           "#FECB52"
          ],
          "font": {
           "color": "#2a3f5f"
          },
          "geo": {
           "bgcolor": "white",
           "lakecolor": "white",
           "landcolor": "#E5ECF6",
           "showlakes": true,
           "showland": true,
           "subunitcolor": "white"
          },
          "hoverlabel": {
           "align": "left"
          },
          "hovermode": "closest",
          "mapbox": {
           "style": "light"
          },
          "paper_bgcolor": "white",
          "plot_bgcolor": "#E5ECF6",
          "polar": {
           "angularaxis": {
            "gridcolor": "white",
            "linecolor": "white",
            "ticks": ""
           },
           "bgcolor": "#E5ECF6",
           "radialaxis": {
            "gridcolor": "white",
            "linecolor": "white",
            "ticks": ""
           }
          },
          "scene": {
           "xaxis": {
            "backgroundcolor": "#E5ECF6",
            "gridcolor": "white",
            "gridwidth": 2,
            "linecolor": "white",
            "showbackground": true,
            "ticks": "",
            "zerolinecolor": "white"
           },
           "yaxis": {
            "backgroundcolor": "#E5ECF6",
            "gridcolor": "white",
            "gridwidth": 2,
            "linecolor": "white",
            "showbackground": true,
            "ticks": "",
            "zerolinecolor": "white"
           },
           "zaxis": {
            "backgroundcolor": "#E5ECF6",
            "gridcolor": "white",
            "gridwidth": 2,
            "linecolor": "white",
            "showbackground": true,
            "ticks": "",
            "zerolinecolor": "white"
           }
          },
          "shapedefaults": {
           "line": {
            "color": "#2a3f5f"
           }
          },
          "ternary": {
           "aaxis": {
            "gridcolor": "white",
            "linecolor": "white",
            "ticks": ""
           },
           "baxis": {
            "gridcolor": "white",
            "linecolor": "white",
            "ticks": ""
           },
           "bgcolor": "#E5ECF6",
           "caxis": {
            "gridcolor": "white",
            "linecolor": "white",
            "ticks": ""
           }
          },
          "title": {
           "x": 0.05
          },
          "xaxis": {
           "automargin": true,
           "gridcolor": "white",
           "linecolor": "white",
           "ticks": "",
           "title": {
            "standoff": 15
           },
           "zerolinecolor": "white",
           "zerolinewidth": 2
          },
          "yaxis": {
           "automargin": true,
           "gridcolor": "white",
           "linecolor": "white",
           "ticks": "",
           "title": {
            "standoff": 15
           },
           "zerolinecolor": "white",
           "zerolinewidth": 2
          }
         }
        },
        "title": {
         "text": "7-Day Forecast for Delhi (PM2.5)"
        },
        "xaxis": {
         "anchor": "y",
         "domain": [
          0,
          1
         ],
         "title": {
          "text": "Date"
         }
        },
        "yaxis": {
         "anchor": "x",
         "domain": [
          0,
          1
         ],
         "title": {
          "text": "trend"
         }
        }
       }
      }
     },
     "metadata": {},
     "output_type": "display_data"
    }
   ],
   "source": [
    "import pandas as pd\n",
    "import plotly.express as px\n",
    "from pathlib import Path\n",
    "\n",
    "# ----------------------------\n",
    "BASE_DIR = Path.cwd().parent\n",
    "FORECASTS_DIR = BASE_DIR / \"results\" / \"forecasts\"\n",
    "\n",
    "# ----------------------------\n",
    "# Load one forecast CSV\n",
    "forecast_file = FORECASTS_DIR / \"forecast_Delhi_PM2.5.csv\"\n",
    "forecast_data = pd.read_csv(forecast_file, engine=\"python\")\n",
    "\n",
    "# ----------------------------\n",
    "# Extract city and pollutant from filename\n",
    "filename_parts = forecast_file.stem.split(\"_\")  # ['forecast', 'Delhi', 'PM2.5']\n",
    "city = filename_parts[1]\n",
    "pollutant = filename_parts[2]\n",
    "\n",
    "# ----------------------------\n",
    "# Ensure date column exists and convert if needed\n",
    "if \"Date\" in forecast_data.columns or \"date\" in forecast_data.columns:\n",
    "    date_col = \"Date\" if \"Date\" in forecast_data.columns else \"date\"\n",
    "    forecast_data[date_col] = pd.to_datetime(forecast_data[date_col])\n",
    "else:\n",
    "    # If no date column, create a simple 7-day index\n",
    "    forecast_data[\"Date\"] = pd.date_range(start=pd.Timestamp.today(), periods=len(forecast_data))\n",
    "\n",
    "# ----------------------------\n",
    "# Take first 7 days\n",
    "forecast_7days = forecast_data.head(7)\n",
    "\n",
    "# ----------------------------\n",
    "# Plot AQI line (or pollutant values)\n",
    "y_col = forecast_data.columns[1]  # second column is usually the pollutant values\n",
    "fig = px.line(forecast_7days, x=\"Date\", y=y_col,\n",
    "              title=f\"7-Day Forecast for {city} ({pollutant})\",\n",
    "              markers=True)\n",
    "fig.show()\n"
   ]
  },
  {
   "cell_type": "code",
   "execution_count": 19,
   "id": "7d59f7d0",
   "metadata": {},
   "outputs": [
    {
     "name": "stdout",
     "output_type": "stream",
     "text": [
      "Alerts file exists: True\n"
     ]
    }
   ],
   "source": [
    "from pathlib import Path\n",
    "\n",
    "BASE_DIR = Path.cwd().parent\n",
    "ALERTS_FILE = BASE_DIR / \"results\" / \"alerts.csv\"\n",
    "\n",
    "print(\"Alerts file exists:\", ALERTS_FILE.exists())\n"
   ]
  },
  {
   "cell_type": "code",
   "execution_count": 20,
   "id": "2987aaea",
   "metadata": {},
   "outputs": [
    {
     "name": "stdout",
     "output_type": "stream",
     "text": [
      "Alerts file loaded. Shape: (42, 7)\n",
      "Columns: Index(['Date', 'City', 'AQI', 'AQI_Bucket', 'Bucket_Color', 'AQI_Dominant',\n",
      "       'Alert_Level'],\n",
      "      dtype='object')\n"
     ]
    }
   ],
   "source": [
    "import pandas as pd\n",
    "\n",
    "if ALERTS_FILE.exists():\n",
    "    alerts = pd.read_csv(ALERTS_FILE, engine=\"python\")\n",
    "    print(\"Alerts file loaded. Shape:\", alerts.shape)\n",
    "    print(\"Columns:\", alerts.columns)\n",
    "else:\n",
    "    alerts = None\n",
    "    print(\"⚠️ Alerts file not found\")\n"
   ]
  },
  {
   "cell_type": "code",
   "execution_count": 21,
   "id": "80270e54",
   "metadata": {},
   "outputs": [
    {
     "name": "stdout",
     "output_type": "stream",
     "text": [
      "Active Alerts:\n"
     ]
    },
    {
     "data": {
      "text/html": [
       "<div>\n",
       "<style scoped>\n",
       "    .dataframe tbody tr th:only-of-type {\n",
       "        vertical-align: middle;\n",
       "    }\n",
       "\n",
       "    .dataframe tbody tr th {\n",
       "        vertical-align: top;\n",
       "    }\n",
       "\n",
       "    .dataframe thead th {\n",
       "        text-align: right;\n",
       "    }\n",
       "</style>\n",
       "<table border=\"1\" class=\"dataframe\">\n",
       "  <thead>\n",
       "    <tr style=\"text-align: right;\">\n",
       "      <th></th>\n",
       "      <th>Date</th>\n",
       "      <th>City</th>\n",
       "      <th>AQI</th>\n",
       "      <th>AQI_Bucket</th>\n",
       "      <th>Bucket_Color</th>\n",
       "      <th>AQI_Dominant</th>\n",
       "      <th>Alert_Level</th>\n",
       "    </tr>\n",
       "  </thead>\n",
       "  <tbody>\n",
       "    <tr>\n",
       "      <th>0</th>\n",
       "      <td>2025-09-21</td>\n",
       "      <td>Ahmedabad</td>\n",
       "      <td>163</td>\n",
       "      <td>Moderate</td>\n",
       "      <td>Yellow</td>\n",
       "      <td>PM2.5</td>\n",
       "      <td>Moderate</td>\n",
       "    </tr>\n",
       "    <tr>\n",
       "      <th>1</th>\n",
       "      <td>2025-09-22</td>\n",
       "      <td>Ahmedabad</td>\n",
       "      <td>65</td>\n",
       "      <td>Satisfactory</td>\n",
       "      <td>Light Green</td>\n",
       "      <td>O3</td>\n",
       "      <td>Low</td>\n",
       "    </tr>\n",
       "    <tr>\n",
       "      <th>2</th>\n",
       "      <td>2025-09-23</td>\n",
       "      <td>Ahmedabad</td>\n",
       "      <td>105</td>\n",
       "      <td>Moderate</td>\n",
       "      <td>Yellow</td>\n",
       "      <td>O3</td>\n",
       "      <td>Moderate</td>\n",
       "    </tr>\n",
       "    <tr>\n",
       "      <th>3</th>\n",
       "      <td>2025-09-24</td>\n",
       "      <td>Ahmedabad</td>\n",
       "      <td>314</td>\n",
       "      <td>Very Poor</td>\n",
       "      <td>Red</td>\n",
       "      <td>NO2</td>\n",
       "      <td>Very High</td>\n",
       "    </tr>\n",
       "    <tr>\n",
       "      <th>4</th>\n",
       "      <td>2025-09-25</td>\n",
       "      <td>Ahmedabad</td>\n",
       "      <td>244</td>\n",
       "      <td>Poor</td>\n",
       "      <td>Orange</td>\n",
       "      <td>SO2</td>\n",
       "      <td>High</td>\n",
       "    </tr>\n",
       "    <tr>\n",
       "      <th>5</th>\n",
       "      <td>2025-09-26</td>\n",
       "      <td>Ahmedabad</td>\n",
       "      <td>162</td>\n",
       "      <td>Moderate</td>\n",
       "      <td>Yellow</td>\n",
       "      <td>SO2</td>\n",
       "      <td>Moderate</td>\n",
       "    </tr>\n",
       "    <tr>\n",
       "      <th>6</th>\n",
       "      <td>2025-09-27</td>\n",
       "      <td>Ahmedabad</td>\n",
       "      <td>255</td>\n",
       "      <td>Poor</td>\n",
       "      <td>Orange</td>\n",
       "      <td>NO2</td>\n",
       "      <td>High</td>\n",
       "    </tr>\n",
       "    <tr>\n",
       "      <th>7</th>\n",
       "      <td>2025-09-21</td>\n",
       "      <td>Bengaluru</td>\n",
       "      <td>324</td>\n",
       "      <td>Very Poor</td>\n",
       "      <td>Red</td>\n",
       "      <td>PM2.5</td>\n",
       "      <td>Very High</td>\n",
       "    </tr>\n",
       "    <tr>\n",
       "      <th>8</th>\n",
       "      <td>2025-09-22</td>\n",
       "      <td>Bengaluru</td>\n",
       "      <td>121</td>\n",
       "      <td>Moderate</td>\n",
       "      <td>Yellow</td>\n",
       "      <td>PM2.5</td>\n",
       "      <td>Moderate</td>\n",
       "    </tr>\n",
       "    <tr>\n",
       "      <th>9</th>\n",
       "      <td>2025-09-23</td>\n",
       "      <td>Bengaluru</td>\n",
       "      <td>449</td>\n",
       "      <td>Severe</td>\n",
       "      <td>Dark Red</td>\n",
       "      <td>NO2</td>\n",
       "      <td>Severe</td>\n",
       "    </tr>\n",
       "  </tbody>\n",
       "</table>\n",
       "</div>"
      ],
      "text/plain": [
       "         Date       City  AQI    AQI_Bucket Bucket_Color AQI_Dominant  \\\n",
       "0  2025-09-21  Ahmedabad  163      Moderate       Yellow        PM2.5   \n",
       "1  2025-09-22  Ahmedabad   65  Satisfactory  Light Green           O3   \n",
       "2  2025-09-23  Ahmedabad  105      Moderate       Yellow           O3   \n",
       "3  2025-09-24  Ahmedabad  314     Very Poor          Red          NO2   \n",
       "4  2025-09-25  Ahmedabad  244          Poor       Orange          SO2   \n",
       "5  2025-09-26  Ahmedabad  162      Moderate       Yellow          SO2   \n",
       "6  2025-09-27  Ahmedabad  255          Poor       Orange          NO2   \n",
       "7  2025-09-21  Bengaluru  324     Very Poor          Red        PM2.5   \n",
       "8  2025-09-22  Bengaluru  121      Moderate       Yellow        PM2.5   \n",
       "9  2025-09-23  Bengaluru  449        Severe     Dark Red          NO2   \n",
       "\n",
       "  Alert_Level  \n",
       "0    Moderate  \n",
       "1         Low  \n",
       "2    Moderate  \n",
       "3   Very High  \n",
       "4        High  \n",
       "5    Moderate  \n",
       "6        High  \n",
       "7   Very High  \n",
       "8    Moderate  \n",
       "9      Severe  "
      ]
     },
     "metadata": {},
     "output_type": "display_data"
    },
    {
     "name": "stdout",
     "output_type": "stream",
     "text": [
      "⚠️ 'Category' column not found in alerts data\n"
     ]
    }
   ],
   "source": [
    "import matplotlib.pyplot as plt\n",
    "import seaborn as sns\n",
    "\n",
    "if alerts is not None and not alerts.empty:\n",
    "    print(\"Active Alerts:\")\n",
    "    display(alerts.head(10))\n",
    "\n",
    "    if \"Category\" in alerts.columns:\n",
    "        plt.figure(figsize=(8,5))\n",
    "        sns.countplot(data=alerts, x=\"Category\", palette=\"Set2\")\n",
    "        plt.title(\"Alert Categories\")\n",
    "        plt.xlabel(\"Category\")\n",
    "        plt.ylabel(\"Count\")\n",
    "        plt.xticks(rotation=45)\n",
    "        plt.tight_layout()\n",
    "        plt.show()\n",
    "    else:\n",
    "        print(\"⚠️ 'Category' column not found in alerts data\")\n",
    "else:\n",
    "    print(\"⚠️ No alerts data available\")\n"
   ]
  },
  {
   "cell_type": "code",
   "execution_count": 22,
   "id": "6169c1f1",
   "metadata": {},
   "outputs": [
    {
     "name": "stdout",
     "output_type": "stream",
     "text": [
      "Model Performance:\n"
     ]
    },
    {
     "data": {
      "text/html": [
       "<div>\n",
       "<style scoped>\n",
       "    .dataframe tbody tr th:only-of-type {\n",
       "        vertical-align: middle;\n",
       "    }\n",
       "\n",
       "    .dataframe tbody tr th {\n",
       "        vertical-align: top;\n",
       "    }\n",
       "\n",
       "    .dataframe thead th {\n",
       "        text-align: right;\n",
       "    }\n",
       "</style>\n",
       "<table border=\"1\" class=\"dataframe\">\n",
       "  <thead>\n",
       "    <tr style=\"text-align: right;\">\n",
       "      <th></th>\n",
       "      <th>Model</th>\n",
       "      <th>RMSE</th>\n",
       "      <th>MAE</th>\n",
       "      <th>R2</th>\n",
       "    </tr>\n",
       "  </thead>\n",
       "  <tbody>\n",
       "    <tr>\n",
       "      <th>0</th>\n",
       "      <td>Prophet</td>\n",
       "      <td>15.2</td>\n",
       "      <td>10.5</td>\n",
       "      <td>0.88</td>\n",
       "    </tr>\n",
       "    <tr>\n",
       "      <th>1</th>\n",
       "      <td>LSTM</td>\n",
       "      <td>12.7</td>\n",
       "      <td>9.3</td>\n",
       "      <td>0.91</td>\n",
       "    </tr>\n",
       "  </tbody>\n",
       "</table>\n",
       "</div>"
      ],
      "text/plain": [
       "     Model  RMSE   MAE    R2\n",
       "0  Prophet  15.2  10.5  0.88\n",
       "1     LSTM  12.7   9.3  0.91"
      ]
     },
     "metadata": {},
     "output_type": "display_data"
    },
    {
     "data": {
      "application/vnd.plotly.v1+json": {
       "config": {
        "plotlyServerURL": "https://plot.ly"
       },
       "data": [
        {
         "alignmentgroup": "True",
         "hovertemplate": "Model=%{x}<br>RMSE=%{y}<extra></extra>",
         "legendgroup": "Prophet",
         "marker": {
          "color": "#636efa",
          "pattern": {
           "shape": ""
          }
         },
         "name": "Prophet",
         "offsetgroup": "Prophet",
         "orientation": "v",
         "showlegend": true,
         "textposition": "auto",
         "type": "bar",
         "x": [
          "Prophet"
         ],
         "xaxis": "x",
         "y": [
          15.2
         ],
         "yaxis": "y"
        },
        {
         "alignmentgroup": "True",
         "hovertemplate": "Model=%{x}<br>RMSE=%{y}<extra></extra>",
         "legendgroup": "LSTM",
         "marker": {
          "color": "#EF553B",
          "pattern": {
           "shape": ""
          }
         },
         "name": "LSTM",
         "offsetgroup": "LSTM",
         "orientation": "v",
         "showlegend": true,
         "textposition": "auto",
         "type": "bar",
         "x": [
          "LSTM"
         ],
         "xaxis": "x",
         "y": [
          12.7
         ],
         "yaxis": "y"
        }
       ],
       "layout": {
        "barmode": "relative",
        "legend": {
         "title": {
          "text": "Model"
         },
         "tracegroupgap": 0
        },
        "template": {
         "data": {
          "bar": [
           {
            "error_x": {
             "color": "#2a3f5f"
            },
            "error_y": {
             "color": "#2a3f5f"
            },
            "marker": {
             "line": {
              "color": "#E5ECF6",
              "width": 0.5
             },
             "pattern": {
              "fillmode": "overlay",
              "size": 10,
              "solidity": 0.2
             }
            },
            "type": "bar"
           }
          ],
          "barpolar": [
           {
            "marker": {
             "line": {
              "color": "#E5ECF6",
              "width": 0.5
             },
             "pattern": {
              "fillmode": "overlay",
              "size": 10,
              "solidity": 0.2
             }
            },
            "type": "barpolar"
           }
          ],
          "carpet": [
           {
            "aaxis": {
             "endlinecolor": "#2a3f5f",
             "gridcolor": "white",
             "linecolor": "white",
             "minorgridcolor": "white",
             "startlinecolor": "#2a3f5f"
            },
            "baxis": {
             "endlinecolor": "#2a3f5f",
             "gridcolor": "white",
             "linecolor": "white",
             "minorgridcolor": "white",
             "startlinecolor": "#2a3f5f"
            },
            "type": "carpet"
           }
          ],
          "choropleth": [
           {
            "colorbar": {
             "outlinewidth": 0,
             "ticks": ""
            },
            "type": "choropleth"
           }
          ],
          "contour": [
           {
            "colorbar": {
             "outlinewidth": 0,
             "ticks": ""
            },
            "colorscale": [
             [
              0,
              "#0d0887"
             ],
             [
              0.1111111111111111,
              "#46039f"
             ],
             [
              0.2222222222222222,
              "#7201a8"
             ],
             [
              0.3333333333333333,
              "#9c179e"
             ],
             [
              0.4444444444444444,
              "#bd3786"
             ],
             [
              0.5555555555555556,
              "#d8576b"
             ],
             [
              0.6666666666666666,
              "#ed7953"
             ],
             [
              0.7777777777777778,
              "#fb9f3a"
             ],
             [
              0.8888888888888888,
              "#fdca26"
             ],
             [
              1,
              "#f0f921"
             ]
            ],
            "type": "contour"
           }
          ],
          "contourcarpet": [
           {
            "colorbar": {
             "outlinewidth": 0,
             "ticks": ""
            },
            "type": "contourcarpet"
           }
          ],
          "heatmap": [
           {
            "colorbar": {
             "outlinewidth": 0,
             "ticks": ""
            },
            "colorscale": [
             [
              0,
              "#0d0887"
             ],
             [
              0.1111111111111111,
              "#46039f"
             ],
             [
              0.2222222222222222,
              "#7201a8"
             ],
             [
              0.3333333333333333,
              "#9c179e"
             ],
             [
              0.4444444444444444,
              "#bd3786"
             ],
             [
              0.5555555555555556,
              "#d8576b"
             ],
             [
              0.6666666666666666,
              "#ed7953"
             ],
             [
              0.7777777777777778,
              "#fb9f3a"
             ],
             [
              0.8888888888888888,
              "#fdca26"
             ],
             [
              1,
              "#f0f921"
             ]
            ],
            "type": "heatmap"
           }
          ],
          "heatmapgl": [
           {
            "colorbar": {
             "outlinewidth": 0,
             "ticks": ""
            },
            "colorscale": [
             [
              0,
              "#0d0887"
             ],
             [
              0.1111111111111111,
              "#46039f"
             ],
             [
              0.2222222222222222,
              "#7201a8"
             ],
             [
              0.3333333333333333,
              "#9c179e"
             ],
             [
              0.4444444444444444,
              "#bd3786"
             ],
             [
              0.5555555555555556,
              "#d8576b"
             ],
             [
              0.6666666666666666,
              "#ed7953"
             ],
             [
              0.7777777777777778,
              "#fb9f3a"
             ],
             [
              0.8888888888888888,
              "#fdca26"
             ],
             [
              1,
              "#f0f921"
             ]
            ],
            "type": "heatmapgl"
           }
          ],
          "histogram": [
           {
            "marker": {
             "pattern": {
              "fillmode": "overlay",
              "size": 10,
              "solidity": 0.2
             }
            },
            "type": "histogram"
           }
          ],
          "histogram2d": [
           {
            "colorbar": {
             "outlinewidth": 0,
             "ticks": ""
            },
            "colorscale": [
             [
              0,
              "#0d0887"
             ],
             [
              0.1111111111111111,
              "#46039f"
             ],
             [
              0.2222222222222222,
              "#7201a8"
             ],
             [
              0.3333333333333333,
              "#9c179e"
             ],
             [
              0.4444444444444444,
              "#bd3786"
             ],
             [
              0.5555555555555556,
              "#d8576b"
             ],
             [
              0.6666666666666666,
              "#ed7953"
             ],
             [
              0.7777777777777778,
              "#fb9f3a"
             ],
             [
              0.8888888888888888,
              "#fdca26"
             ],
             [
              1,
              "#f0f921"
             ]
            ],
            "type": "histogram2d"
           }
          ],
          "histogram2dcontour": [
           {
            "colorbar": {
             "outlinewidth": 0,
             "ticks": ""
            },
            "colorscale": [
             [
              0,
              "#0d0887"
             ],
             [
              0.1111111111111111,
              "#46039f"
             ],
             [
              0.2222222222222222,
              "#7201a8"
             ],
             [
              0.3333333333333333,
              "#9c179e"
             ],
             [
              0.4444444444444444,
              "#bd3786"
             ],
             [
              0.5555555555555556,
              "#d8576b"
             ],
             [
              0.6666666666666666,
              "#ed7953"
             ],
             [
              0.7777777777777778,
              "#fb9f3a"
             ],
             [
              0.8888888888888888,
              "#fdca26"
             ],
             [
              1,
              "#f0f921"
             ]
            ],
            "type": "histogram2dcontour"
           }
          ],
          "mesh3d": [
           {
            "colorbar": {
             "outlinewidth": 0,
             "ticks": ""
            },
            "type": "mesh3d"
           }
          ],
          "parcoords": [
           {
            "line": {
             "colorbar": {
              "outlinewidth": 0,
              "ticks": ""
             }
            },
            "type": "parcoords"
           }
          ],
          "pie": [
           {
            "automargin": true,
            "type": "pie"
           }
          ],
          "scatter": [
           {
            "fillpattern": {
             "fillmode": "overlay",
             "size": 10,
             "solidity": 0.2
            },
            "type": "scatter"
           }
          ],
          "scatter3d": [
           {
            "line": {
             "colorbar": {
              "outlinewidth": 0,
              "ticks": ""
             }
            },
            "marker": {
             "colorbar": {
              "outlinewidth": 0,
              "ticks": ""
             }
            },
            "type": "scatter3d"
           }
          ],
          "scattercarpet": [
           {
            "marker": {
             "colorbar": {
              "outlinewidth": 0,
              "ticks": ""
             }
            },
            "type": "scattercarpet"
           }
          ],
          "scattergeo": [
           {
            "marker": {
             "colorbar": {
              "outlinewidth": 0,
              "ticks": ""
             }
            },
            "type": "scattergeo"
           }
          ],
          "scattergl": [
           {
            "marker": {
             "colorbar": {
              "outlinewidth": 0,
              "ticks": ""
             }
            },
            "type": "scattergl"
           }
          ],
          "scattermapbox": [
           {
            "marker": {
             "colorbar": {
              "outlinewidth": 0,
              "ticks": ""
             }
            },
            "type": "scattermapbox"
           }
          ],
          "scatterpolar": [
           {
            "marker": {
             "colorbar": {
              "outlinewidth": 0,
              "ticks": ""
             }
            },
            "type": "scatterpolar"
           }
          ],
          "scatterpolargl": [
           {
            "marker": {
             "colorbar": {
              "outlinewidth": 0,
              "ticks": ""
             }
            },
            "type": "scatterpolargl"
           }
          ],
          "scatterternary": [
           {
            "marker": {
             "colorbar": {
              "outlinewidth": 0,
              "ticks": ""
             }
            },
            "type": "scatterternary"
           }
          ],
          "surface": [
           {
            "colorbar": {
             "outlinewidth": 0,
             "ticks": ""
            },
            "colorscale": [
             [
              0,
              "#0d0887"
             ],
             [
              0.1111111111111111,
              "#46039f"
             ],
             [
              0.2222222222222222,
              "#7201a8"
             ],
             [
              0.3333333333333333,
              "#9c179e"
             ],
             [
              0.4444444444444444,
              "#bd3786"
             ],
             [
              0.5555555555555556,
              "#d8576b"
             ],
             [
              0.6666666666666666,
              "#ed7953"
             ],
             [
              0.7777777777777778,
              "#fb9f3a"
             ],
             [
              0.8888888888888888,
              "#fdca26"
             ],
             [
              1,
              "#f0f921"
             ]
            ],
            "type": "surface"
           }
          ],
          "table": [
           {
            "cells": {
             "fill": {
              "color": "#EBF0F8"
             },
             "line": {
              "color": "white"
             }
            },
            "header": {
             "fill": {
              "color": "#C8D4E3"
             },
             "line": {
              "color": "white"
             }
            },
            "type": "table"
           }
          ]
         },
         "layout": {
          "annotationdefaults": {
           "arrowcolor": "#2a3f5f",
           "arrowhead": 0,
           "arrowwidth": 1
          },
          "autotypenumbers": "strict",
          "coloraxis": {
           "colorbar": {
            "outlinewidth": 0,
            "ticks": ""
           }
          },
          "colorscale": {
           "diverging": [
            [
             0,
             "#8e0152"
            ],
            [
             0.1,
             "#c51b7d"
            ],
            [
             0.2,
             "#de77ae"
            ],
            [
             0.3,
             "#f1b6da"
            ],
            [
             0.4,
             "#fde0ef"
            ],
            [
             0.5,
             "#f7f7f7"
            ],
            [
             0.6,
             "#e6f5d0"
            ],
            [
             0.7,
             "#b8e186"
            ],
            [
             0.8,
             "#7fbc41"
            ],
            [
             0.9,
             "#4d9221"
            ],
            [
             1,
             "#276419"
            ]
           ],
           "sequential": [
            [
             0,
             "#0d0887"
            ],
            [
             0.1111111111111111,
             "#46039f"
            ],
            [
             0.2222222222222222,
             "#7201a8"
            ],
            [
             0.3333333333333333,
             "#9c179e"
            ],
            [
             0.4444444444444444,
             "#bd3786"
            ],
            [
             0.5555555555555556,
             "#d8576b"
            ],
            [
             0.6666666666666666,
             "#ed7953"
            ],
            [
             0.7777777777777778,
             "#fb9f3a"
            ],
            [
             0.8888888888888888,
             "#fdca26"
            ],
            [
             1,
             "#f0f921"
            ]
           ],
           "sequentialminus": [
            [
             0,
             "#0d0887"
            ],
            [
             0.1111111111111111,
             "#46039f"
            ],
            [
             0.2222222222222222,
             "#7201a8"
            ],
            [
             0.3333333333333333,
             "#9c179e"
            ],
            [
             0.4444444444444444,
             "#bd3786"
            ],
            [
             0.5555555555555556,
             "#d8576b"
            ],
            [
             0.6666666666666666,
             "#ed7953"
            ],
            [
             0.7777777777777778,
             "#fb9f3a"
            ],
            [
             0.8888888888888888,
             "#fdca26"
            ],
            [
             1,
             "#f0f921"
            ]
           ]
          },
          "colorway": [
           "#636efa",
           "#EF553B",
           "#00cc96",
           "#ab63fa",
           "#FFA15A",
           "#19d3f3",
           "#FF6692",
           "#B6E880",
           "#FF97FF",
           "#FECB52"
          ],
          "font": {
           "color": "#2a3f5f"
          },
          "geo": {
           "bgcolor": "white",
           "lakecolor": "white",
           "landcolor": "#E5ECF6",
           "showlakes": true,
           "showland": true,
           "subunitcolor": "white"
          },
          "hoverlabel": {
           "align": "left"
          },
          "hovermode": "closest",
          "mapbox": {
           "style": "light"
          },
          "paper_bgcolor": "white",
          "plot_bgcolor": "#E5ECF6",
          "polar": {
           "angularaxis": {
            "gridcolor": "white",
            "linecolor": "white",
            "ticks": ""
           },
           "bgcolor": "#E5ECF6",
           "radialaxis": {
            "gridcolor": "white",
            "linecolor": "white",
            "ticks": ""
           }
          },
          "scene": {
           "xaxis": {
            "backgroundcolor": "#E5ECF6",
            "gridcolor": "white",
            "gridwidth": 2,
            "linecolor": "white",
            "showbackground": true,
            "ticks": "",
            "zerolinecolor": "white"
           },
           "yaxis": {
            "backgroundcolor": "#E5ECF6",
            "gridcolor": "white",
            "gridwidth": 2,
            "linecolor": "white",
            "showbackground": true,
            "ticks": "",
            "zerolinecolor": "white"
           },
           "zaxis": {
            "backgroundcolor": "#E5ECF6",
            "gridcolor": "white",
            "gridwidth": 2,
            "linecolor": "white",
            "showbackground": true,
            "ticks": "",
            "zerolinecolor": "white"
           }
          },
          "shapedefaults": {
           "line": {
            "color": "#2a3f5f"
           }
          },
          "ternary": {
           "aaxis": {
            "gridcolor": "white",
            "linecolor": "white",
            "ticks": ""
           },
           "baxis": {
            "gridcolor": "white",
            "linecolor": "white",
            "ticks": ""
           },
           "bgcolor": "#E5ECF6",
           "caxis": {
            "gridcolor": "white",
            "linecolor": "white",
            "ticks": ""
           }
          },
          "title": {
           "x": 0.05
          },
          "xaxis": {
           "automargin": true,
           "gridcolor": "white",
           "linecolor": "white",
           "ticks": "",
           "title": {
            "standoff": 15
           },
           "zerolinecolor": "white",
           "zerolinewidth": 2
          },
          "yaxis": {
           "automargin": true,
           "gridcolor": "white",
           "linecolor": "white",
           "ticks": "",
           "title": {
            "standoff": 15
           },
           "zerolinecolor": "white",
           "zerolinewidth": 2
          }
         }
        },
        "title": {
         "text": "Model RMSE Comparison"
        },
        "xaxis": {
         "anchor": "y",
         "categoryarray": [
          "Prophet",
          "LSTM"
         ],
         "categoryorder": "array",
         "domain": [
          0,
          1
         ],
         "title": {
          "text": "Model"
         }
        },
        "yaxis": {
         "anchor": "x",
         "domain": [
          0,
          1
         ],
         "title": {
          "text": "RMSE"
         }
        }
       }
      }
     },
     "metadata": {},
     "output_type": "display_data"
    }
   ],
   "source": [
    "if performance is not None:\n",
    "    print(\"Model Performance:\")\n",
    "    display(performance.head(10))\n",
    "\n",
    "    fig = px.bar(performance, x=\"Model\", y=\"RMSE\",\n",
    "                 title=\"Model RMSE Comparison\", color=\"Model\")\n",
    "    fig.show()\n",
    "else:\n",
    "    print(\"⚠️ No performance data available\")\n"
   ]
  },
  {
   "cell_type": "code",
   "execution_count": 23,
   "id": "49f93fd6",
   "metadata": {},
   "outputs": [
    {
     "name": "stdout",
     "output_type": "stream",
     "text": [
      "Best Models by Pollutant/City:\n"
     ]
    },
    {
     "data": {
      "text/html": [
       "<div>\n",
       "<style scoped>\n",
       "    .dataframe tbody tr th:only-of-type {\n",
       "        vertical-align: middle;\n",
       "    }\n",
       "\n",
       "    .dataframe tbody tr th {\n",
       "        vertical-align: top;\n",
       "    }\n",
       "\n",
       "    .dataframe thead th {\n",
       "        text-align: right;\n",
       "    }\n",
       "</style>\n",
       "<table border=\"1\" class=\"dataframe\">\n",
       "  <thead>\n",
       "    <tr style=\"text-align: right;\">\n",
       "      <th></th>\n",
       "      <th>index</th>\n",
       "      <th>Model</th>\n",
       "      <th>RMSE</th>\n",
       "      <th>MAE</th>\n",
       "      <th>R2</th>\n",
       "    </tr>\n",
       "  </thead>\n",
       "  <tbody>\n",
       "    <tr>\n",
       "      <th>0</th>\n",
       "      <td>City</td>\n",
       "      <td>LSTM</td>\n",
       "      <td>12.7</td>\n",
       "      <td>9.3</td>\n",
       "      <td>0.91</td>\n",
       "    </tr>\n",
       "    <tr>\n",
       "      <th>1</th>\n",
       "      <td>Pollutant</td>\n",
       "      <td>Prophet</td>\n",
       "      <td>15.2</td>\n",
       "      <td>10.5</td>\n",
       "      <td>0.88</td>\n",
       "    </tr>\n",
       "  </tbody>\n",
       "</table>\n",
       "</div>"
      ],
      "text/plain": [
       "       index    Model  RMSE   MAE    R2\n",
       "0       City     LSTM  12.7   9.3  0.91\n",
       "1  Pollutant  Prophet  15.2  10.5  0.88"
      ]
     },
     "metadata": {},
     "output_type": "display_data"
    }
   ],
   "source": [
    "if best_models is not None:\n",
    "    print(\"Best Models by Pollutant/City:\")\n",
    "    display(best_models.head(10))\n",
    "else:\n",
    "    print(\"⚠️ Best models file missing\")\n"
   ]
  }
 ],
 "metadata": {
  "kernelspec": {
   "display_name": "Python 3",
   "language": "python",
   "name": "python3"
  },
  "language_info": {
   "codemirror_mode": {
    "name": "ipython",
    "version": 3
   },
   "file_extension": ".py",
   "mimetype": "text/x-python",
   "name": "python",
   "nbconvert_exporter": "python",
   "pygments_lexer": "ipython3",
   "version": "3.11.0"
  }
 },
 "nbformat": 4,
 "nbformat_minor": 5
}
